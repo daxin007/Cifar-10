{
 "cells": [
  {
   "cell_type": "markdown",
   "metadata": {},
   "source": [
    "# Cette section est utilisée pour observer les données"
   ]
  },
  {
   "cell_type": "code",
   "execution_count": 1,
   "metadata": {
    "collapsed": true
   },
   "outputs": [],
   "source": [
    "import matplotlib.pyplot as plt\n",
    "from PIL import Image\n",
    "from pylab import *\n",
    "import numpy as np\n",
    "import cPickle\n",
    "def unpickle(file):\n",
    "    \n",
    "    with open(file, 'rb') as fx:\n",
    "        dict = cPickle.load(fx)\n",
    "    return dict\n"
   ]
  },
  {
   "cell_type": "code",
   "execution_count": 2,
   "metadata": {
    "collapsed": false
   },
   "outputs": [
    {
     "name": "stdout",
     "output_type": "stream",
     "text": [
      "<type 'dict'>\n",
      "['data', 'labels', 'batch_label', 'filenames']\n",
      "4\n",
      "<type 'numpy.ndarray'>\n",
      "10000\n",
      "<type 'list'>\n",
      "<type 'str'>\n",
      "<type 'list'>\n"
     ]
    }
   ],
   "source": [
    "# Explorez train_set, data_batch_1 et 2,3,4,5 sont presque les mêmes\n",
    "train_set = unpickle('./cifar-10-batches-py/data_batch_1')\n",
    "\n",
    "print(type(train_set))\n",
    "print(train_set.keys())\n",
    "print(len(train_set))\n",
    "print(type(train_set['data']))\n",
    "print(len(train_set['data']))\n",
    "print(type(train_set['labels']))\n",
    "print(type(train_set['batch_label']))\n",
    "print(type(train_set['filenames']))"
   ]
  },
  {
   "cell_type": "code",
   "execution_count": 3,
   "metadata": {
    "collapsed": false
   },
   "outputs": [
    {
     "name": "stdout",
     "output_type": "stream",
     "text": [
      "<type 'numpy.ndarray'>\n",
      "[159 150 153 ...,  14  17  19]\n",
      "<type 'numpy.ndarray'>\n",
      "3072\n",
      "1\n",
      "coupe_s_001735.png\n"
     ]
    }
   ],
   "source": [
    "# Voir un exemple\n",
    "img = train_set['data']\n",
    "label=train_set['labels']\n",
    "f=train_set['filenames']\n",
    "print(type(img[5]))\n",
    "single_img = np.array(img[5])\n",
    "print(single_img)\n",
    "print(type(single_img))\n",
    "print(len(single_img))\n",
    "print(label[5])\n",
    "print(f[5])"
   ]
  },
  {
   "cell_type": "code",
   "execution_count": 4,
   "metadata": {
    "collapsed": false
   },
   "outputs": [
    {
     "data": {
      "text/plain": [
       "<matplotlib.image.AxesImage at 0x7f303bc1f250>"
      ]
     },
     "execution_count": 4,
     "metadata": {},
     "output_type": "execute_result"
    },
    {
     "data": {
      "image/png": "[encoded data removed]",
      "text/plain": [
       "<matplotlib.figure.Figure at 0x7f3038194550>"
      ]
     },
     "metadata": {},
     "output_type": "display_data"
    }
   ],
   "source": [
    "#affiche l'image\n",
    "new = single_img.reshape(3,32,32)  \n",
    "red   = new[0].reshape(1024,1)  \n",
    "green = new[1].reshape(1024,1)  \n",
    "blue  = new[2].reshape(1024,1)  \n",
    "  \n",
    "pic = np.hstack((red,green,blue))   \n",
    "pic_rgb = pic.reshape(32,32,3)   \n",
    "plt.imshow(pic_rgb)  "
   ]
  },
  {
   "cell_type": "code",
   "execution_count": 5,
   "metadata": {
    "collapsed": false
   },
   "outputs": [
    {
     "name": "stdout",
     "output_type": "stream",
     "text": [
      "{'num_cases_per_batch': 10000, 'label_names': ['airplane', 'automobile', 'bird', 'cat', 'deer', 'dog', 'frog', 'horse', 'ship', 'truck'], 'num_vis': 3072}\n"
     ]
    }
   ],
   "source": [
    "# les noms de chaque labels\n",
    "r = unpickle('./cifar-10-batches-py/batches.meta')\n",
    "print(r)"
   ]
  },
  {
   "cell_type": "code",
   "execution_count": 6,
   "metadata": {
    "collapsed": false
   },
   "outputs": [
    {
     "name": "stdout",
     "output_type": "stream",
     "text": [
      "<type 'dict'>\n",
      "['data', 'labels', 'batch_label', 'filenames']\n",
      "4\n",
      "<type 'numpy.ndarray'>\n",
      "10000\n",
      "<type 'list'>\n",
      "<type 'str'>\n",
      "<type 'list'>\n"
     ]
    }
   ],
   "source": [
    "#Explorez test_set\n",
    "test_set = unpickle('./cifar-10-batches-py/test_batch')\n",
    "\n",
    "print(type(test_set))\n",
    "print(test_set.keys())\n",
    "print(len(test_set))\n",
    "print(type(test_set['data']))\n",
    "print(len(test_set['data']))\n",
    "print(type(test_set['labels']))\n",
    "print(type(test_set['batch_label']))\n",
    "print(type(test_set['filenames']))"
   ]
  }
 ],
 "metadata": {
  "kernelspec": {
   "display_name": "Python 2",
   "language": "python",
   "name": "python2"
  },
  "language_info": {
   "codemirror_mode": {
    "name": "ipython",
    "version": 2
   },
   "file_extension": ".py",
   "mimetype": "text/x-python",
   "name": "python",
   "nbconvert_exporter": "python",
   "pygments_lexer": "ipython2",
   "version": "2.7.13"
  }
 },
 "nbformat": 4,
 "nbformat_minor": 2
}
