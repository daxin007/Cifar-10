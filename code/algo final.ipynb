{
 "cells": [
  {
   "cell_type": "code",
   "execution_count": 1,
   "metadata": {
    "collapsed": true
   },
   "outputs": [],
   "source": [
    "# coding: utf-8\n",
    "#Chargement des données\n",
    "import matplotlib.pyplot as plt\n",
    "import numpy as np\n",
    "from PIL import Image\n",
    "from pylab import *\n",
    "from sklearn.cluster import KMeans\n",
    "from collections import Counter\n",
    "from scipy.stats.mstats import mode\n",
    "from sklearn.utils import shuffle\n",
    "from numpy import array\n",
    "from sklearn.metrics import classification_report\n",
    "from sklearn.metrics import accuracy_score \n",
    "train=list()\n",
    "test=list()\n",
    "def unpickle(file):\n",
    "\timport cPickle\n",
    "\tfo = open(file, 'rb')\n",
    "\tdict = cPickle.load(fo)\n",
    "\tfo.close()\n",
    "\treturn dict \n",
    "\n",
    "images = [[] for i in range(6)]\n",
    "images[0] = unpickle('./cifar-10-batches-py/data_batch_1')\n",
    "images[1] = unpickle('./cifar-10-batches-py/data_batch_2')\n",
    "images[2] = unpickle('./cifar-10-batches-py/data_batch_3')\n",
    "images[3] = unpickle('./cifar-10-batches-py/data_batch_4')\n",
    "images[4] = unpickle('./cifar-10-batches-py/data_batch_5')\n",
    "images[5] = unpickle('./cifar-10-batches-py/test_batch') \n",
    "\n",
    "train_set = [[] for i in range(5)]\n",
    "train_label = [[] for i in range(5)]\n",
    "test_set=[]\n",
    "test_label=[]\n",
    "train_set[0]=images[0][\"data\"]\n",
    "train_label[0]=images[0][\"labels\"]\n",
    "train_set[1]=images[1][\"data\"]\n",
    "train_label[1]=images[1][\"labels\"]\n",
    "train_set[2]=images[2][\"data\"]\n",
    "train_label[2]=images[2][\"labels\"]\n",
    "train_set[3]=images[3][\"data\"]\n",
    "train_label[3]=images[3][\"labels\"]\n",
    "train_set[4]=images[4][\"data\"]\n",
    "train_label[4]=images[4][\"labels\"]\n",
    "test_set=images[5][\"data\"]\n",
    "test_label=images[5][\"labels\"]"
   ]
  },
  {
   "cell_type": "code",
   "execution_count": 2,
   "metadata": {
    "collapsed": true
   },
   "outputs": [],
   "source": [
    "################divisez l’image en 4 patches \n",
    "def quatre_patchs(image):\n",
    "\tens = []\t\n",
    "\tnew_ens = []\n",
    "\tfor i in image:\t           #pour chaque images dans batchs\n",
    "\t\trouge = i[0:1024]      \n",
    "\t\tvert  = i[1024:2048]\n",
    "\t\tbleu  = i[2048:3072]\n",
    "\t\tpixel = np.dstack((rouge,vert))\n",
    "\t\tpixel = np.dstack((pixel,bleu))\n",
    "\t\tpixel_n = pixel[0]\n",
    "\t\tpixel_n = np.reshape(pixel_n,(32,32,3))\n",
    "\n",
    "\t\tens.append(pixel_n)\n",
    "\tfor e in ens: \n",
    "        \tnew_ens.append(e[:16,:16])\t\t#en haut à gauche 16 * 16 \n",
    "       \t\tnew_ens.append(e[:16,16:])\t\t#en haut à droite \n",
    "        \tnew_ens.append(e[16:,:16])\t\t#en bas à gauche  \n",
    "        \tnew_ens.append(e[16:,16:])\t\t#en bas à droite  \n",
    "\t#return (len(new_ens))\n",
    "\treturn array(new_ens) \n",
    "train_patch = [[] for i in range(5)]\n",
    "test_patch=[]\n",
    "train_patch[0]=quatre_patchs(train_set[0])\n",
    "train_patch[1]=quatre_patchs(train_set[1])\n",
    "train_patch[2]=quatre_patchs(train_set[2])\n",
    "train_patch[3]=quatre_patchs(train_set[3])\n",
    "train_patch[4]=quatre_patchs(train_set[4])\n",
    "test_patch=quatre_patchs(test_set)"
   ]
  },
  {
   "cell_type": "code",
   "execution_count": 3,
   "metadata": {},
   "outputs": [
    {
     "name": "stdout",
     "output_type": "stream",
     "text": [
      "40000\n",
      "(16, 16, 3)\n",
      "<type 'numpy.ndarray'>\n",
      "<type 'numpy.ndarray'>\n",
      "(200000, 16, 16, 3)\n",
      "(200000, 768)\n",
      "(16, 16, 3)\n",
      "(3072,)\n",
      "(768,)\n",
      "(40000, 16, 16, 3)\n",
      "(40000, 768)\n"
     ]
    }
   ],
   "source": [
    "#explorez les donnes et changez les formes\n",
    "print(len(train_patch[0]))\n",
    "print(train_patch[0][0].shape)\n",
    "#test_im = np.reshape(test_im,(len(test_im),768))\n",
    "print(type(train_set[0]))\n",
    "print(type(train_patch[0]))\n",
    "x_train=np.concatenate((train_patch[0],train_patch[1],train_patch[2],train_patch[3],train_patch[4]),axis=0)\n",
    "print(x_train.shape)\n",
    "x_train=x_train.reshape(200000,768,)\n",
    "print(x_train.shape)\n",
    "print(train_patch[0][0].shape)\n",
    "print(train_set[0][0].shape)\n",
    "print(x_train[0].shape)\n",
    "print(test_patch.shape)\n",
    "x_test=test_patch.reshape(40000,768,)\n",
    "print(x_test.shape)"
   ]
  },
  {
   "cell_type": "code",
   "execution_count": 4,
   "metadata": {},
   "outputs": [
    {
     "name": "stdout",
     "output_type": "stream",
     "text": [
      "whitening the train patches... \n",
      "end of whitening\n"
     ]
    }
   ],
   "source": [
    "#whitening\n",
    "print \"whitening the train patches... \"\n",
    "[D,V]=np.linalg.eig(np.cov(x_train,rowvar=0))\n",
    "\n",
    "P = V.dot(np.diag(np.sqrt(1/(D + 0.1)))).dot(V.T)\n",
    "x_train = x_train.dot(P)\n",
    "[D,V]=np.linalg.eig(np.cov(x_test,rowvar=0))\n",
    "\n",
    "P = V.dot(np.diag(np.sqrt(1/(D + 0.1)))).dot(V.T)\n",
    "x_test = x_test.dot(P)\n",
    "print \"end of whitening\""
   ]
  },
  {
   "cell_type": "code",
   "execution_count": 5,
   "metadata": {},
   "outputs": [
    {
     "name": "stdout",
     "output_type": "stream",
     "text": [
      "Start creating the dictionary\n",
      "Start using the sklearn Kmeans....\n",
      "K-means has done...\n"
     ]
    }
   ],
   "source": [
    "# Kmeans calcule les centres\n",
    "from sklearn.cluster import KMeans \n",
    "K=60\n",
    "print \"Start creating the dictionary\"\n",
    "print \"Start using the sklearn Kmeans....\"\n",
    "result = KMeans(n_clusters=K,max_iter=50).fit(x_train[0:120000])\n",
    "print \"K-means has done...\""
   ]
  },
  {
   "cell_type": "code",
   "execution_count": 6,
   "metadata": {},
   "outputs": [
    {
     "name": "stdout",
     "output_type": "stream",
     "text": [
      "center  (60, 768)\n"
     ]
    }
   ],
   "source": [
    "center=result.cluster_centers_\n",
    "print \"center \",center.shape"
   ]
  },
  {
   "cell_type": "code",
   "execution_count": 7,
   "metadata": {},
   "outputs": [
    {
     "name": "stdout",
     "output_type": "stream",
     "text": [
      "[ 0.  0.  0.  0.  0.  0.  0.  0.  0.  0.  0.  0.  0.  0.  0.  0.  0.  0.\n",
      "  0.  0.  0.  0.  0.  0.  0.  0.  0.  0.  1.  0.  0.  0.  0.  0.  0.  0.\n",
      "  0.  0.  0.  0.  0.  0.  0.  0.  0.  0.  0.  0.  0.  0.  0.  0.  0.  0.\n",
      "  0.  0.  0.  0.  0.  0.]\n",
      "200000\n",
      "<type 'numpy.ndarray'>\n",
      "60\n"
     ]
    }
   ],
   "source": [
    "# changer les formes des donnes\n",
    "res=np.zeros((200000,K))\n",
    "for i in range(len(x_train)):\n",
    "    s=np.linalg.norm(x_train[i]-center[0])\n",
    "    index=0\n",
    "    for j in range(len(center)):\n",
    "        if np.linalg.norm(x_train[i]-center[j])<s:\n",
    "            s=np.linalg.norm(x_train[i]-center[j])\n",
    "            index=j\n",
    "    res[i][index]=1\n",
    "res_t=np.zeros((40000,K))\n",
    "for i in range(len(x_test)):\n",
    "    s=np.linalg.norm(x_test[i]-center[0])\n",
    "    index=0\n",
    "    for j in range(len(center)):\n",
    "        if np.linalg.norm(x_test[i]-center[j])<s:\n",
    "            s=np.linalg.norm(x_test[i]-center[j])\n",
    "            index=j\n",
    "    res_t[i][index]=1\n",
    "\n",
    "#explorer les donnes\n",
    "print(res[0])\n",
    "print(len(res))\n",
    "print(type(res[0]))\n",
    "print(len(res_t[1]))\n",
    "#r=res[0]+res[1]+res[2]\n",
    "#print(r)"
   ]
  },
  {
   "cell_type": "code",
   "execution_count": 8,
   "metadata": {},
   "outputs": [
    {
     "name": "stdout",
     "output_type": "stream",
     "text": [
      "240\n",
      "240\n"
     ]
    }
   ],
   "source": [
    "# nonveaux donnes pour train et test\n",
    "train_final=np.zeros((50000,4*K))\n",
    "j=0\n",
    "for i in range(len(train_final)):\n",
    "    t1=np.append(res[j],res[j+1])\n",
    "    t2=np.append(t1,res[j+2])\n",
    "    train_final[i]=np.append(t2,res[j+3])\n",
    "    j=j+4\n",
    "test_final=np.zeros((10000,4*K))\n",
    "j=0\n",
    "for i in range(len(test_final)):\n",
    "    t1=np.append(res_t[j],res_t[j+1])\n",
    "    t2=np.append(t1,res_t[j+2])\n",
    "    test_final[i]=np.append(t2,res_t[j+3])\n",
    "    j=j+4\n",
    "\n",
    "print(len(train_final[0]))\n",
    "print(len(test_final[-1]))"
   ]
  },
  {
   "cell_type": "code",
   "execution_count": 9,
   "metadata": {},
   "outputs": [
    {
     "name": "stdout",
     "output_type": "stream",
     "text": [
      "(50000,)\n",
      "(50000, 240)\n",
      "240\n",
      "6\n"
     ]
    }
   ],
   "source": [
    "# ontenir les donnes et les labels\n",
    "y_train=np.concatenate((train_label[0],train_label[1],train_label[2],train_label[3],train_label[4]),axis=0)\n",
    "y_test=test_label\n",
    "print(y_train.shape)\n",
    "print(train_final.shape)\n",
    "train_set=train_final[0:20000]\n",
    "train_label=y_train[0:20000]\n",
    "test_set=test_final[0:5000]\n",
    "test_label=y_test[0:5000]\n",
    "#train=list()\n",
    "#test=list()\n",
    "print(len(train_set[0]))\n",
    "print(train_label[0])"
   ]
  },
  {
   "cell_type": "code",
   "execution_count": 10,
   "metadata": {
    "collapsed": true
   },
   "outputs": [],
   "source": [
    "def dessine(s,t):\n",
    "    y=list()\n",
    "    j=72\n",
    "    for i in range(10):\n",
    "        y.append(float(s[j:j+4]))\n",
    "        j=j+53\n",
    "    #print(y)\n",
    "    x = np.linspace(0,9,10)\n",
    "    plt.figure(figsize=(10,5))\n",
    "    plt.title(t)\n",
    "    plt.ylim((0.1, 0.4))\n",
    "    plt.xticks([0, 1, 2, 3, 4,5,6,7,8,9],['airplane', 'automobile', 'bird', 'cat', 'deer', 'dog', 'frog', 'horse', 'ship', 'truck'])\n",
    "    plt.plot(x, y,'rx',label='train')\n",
    "    plt.show()\n"
   ]
  },
  {
   "cell_type": "code",
   "execution_count": 11,
   "metadata": {},
   "outputs": [
    {
     "name": "stdout",
     "output_type": "stream",
     "text": [
      "('decision tree:', [0.59755000000000003], [0.21560000000000001])\n",
      "             precision    recall  f1-score   support\n",
      "\n",
      "          0       0.24      0.42      0.31       488\n",
      "          1       0.20      0.22      0.21       505\n",
      "          2       0.19      0.19      0.19       512\n",
      "          3       0.15      0.17      0.16       497\n",
      "          4       0.23      0.21      0.22       507\n",
      "          5       0.14      0.12      0.13       488\n",
      "          6       0.21      0.16      0.18       491\n",
      "          7       0.22      0.17      0.20       495\n",
      "          8       0.34      0.37      0.35       504\n",
      "          9       0.19      0.12      0.15       513\n",
      "\n",
      "avg / total       0.21      0.22      0.21      5000\n",
      "\n"
     ]
    },
    {
     "data": {
      "image/png": "[encoded data removed]",
      "text/plain": [
       "<matplotlib.figure.Figure at 0x7f2882addf10>"
      ]
     },
     "metadata": {},
     "output_type": "display_data"
    }
   ],
   "source": [
    "# decision tree\n",
    "from sklearn import tree\n",
    "#train_set=train_final[0:50000]\n",
    "#train_label=y_train[0:50000]\n",
    "#test_set=test_final[0:10000]\n",
    "#test_label=y_test[0:10000]\n",
    "train=list()\n",
    "test=list()\n",
    "clf = tree.DecisionTreeClassifier()\n",
    "clf.fit(train_set,train_label) \n",
    "train.append(np.mean(clf.predict(train_set) == train_label))\n",
    "test.append(np.mean(clf.predict(test_set) == test_label))\n",
    "     \n",
    "print(\"decision tree:\",train,test) # affiche taux correct pour train_set et test_set\n",
    "kl=clf.predict(test_set)\n",
    "target_names = ['0','1', '2', '3','4','5','6','7','8','9']\n",
    "print(classification_report(test_label, kl, target_names=target_names))\n",
    "sl=classification_report(test_label, kl, target_names=target_names)\n",
    "dessine(sl,\"decision tree\")"
   ]
  },
  {
   "cell_type": "code",
   "execution_count": 12,
   "metadata": {},
   "outputs": [
    {
     "name": "stdout",
     "output_type": "stream",
     "text": [
      "('Bayes: ', [0.21485000000000001], [0.21060000000000001])\n",
      "             precision    recall  f1-score   support\n",
      "\n",
      "          0       0.31      0.04      0.07       488\n",
      "          1       0.28      0.27      0.28       505\n",
      "          2       0.33      0.00      0.00       512\n",
      "          3       0.21      0.02      0.03       497\n",
      "          4       0.28      0.20      0.23       507\n",
      "          5       0.18      0.36      0.24       488\n",
      "          6       0.39      0.06      0.11       491\n",
      "          7       0.19      0.43      0.27       495\n",
      "          8       0.20      0.73      0.31       504\n",
      "          9       0.43      0.01      0.01       513\n",
      "\n",
      "avg / total       0.28      0.21      0.15      5000\n",
      "\n"
     ]
    },
    {
     "data": {
      "image/png": "[encoded data removed]",
      "text/plain": [
       "<matplotlib.figure.Figure at 0x7f2880170750>"
      ]
     },
     "metadata": {},
     "output_type": "display_data"
    }
   ],
   "source": [
    "\n",
    "# bayes\n",
    "from sklearn.naive_bayes import GaussianNB\n",
    "train=list()\n",
    "test=list()\n",
    "clf = GaussianNB()\n",
    "clf.fit(train_set,train_label) \n",
    "train.append(np.mean(clf.predict(train_set) == train_label))\n",
    "test.append(np.mean(clf.predict(test_set) == test_label))\n",
    "\n",
    "     \n",
    "print(\"Bayes: \",train,test) \n",
    "kl=clf.predict(test_set)\n",
    "target_names = ['0','1', '2', '3','4','5','6','7','8','9']\n",
    "print(classification_report(test_label, kl, target_names=target_names))\n",
    "sl=classification_report(test_label, kl, target_names=target_names)\n",
    "dessine(sl,\"bayes\")"
   ]
  },
  {
   "cell_type": "code",
   "execution_count": 13,
   "metadata": {},
   "outputs": [
    {
     "name": "stdout",
     "output_type": "stream",
     "text": [
      "('perceptron:', [0.16985], [0.17100000000000001])\n",
      "             precision    recall  f1-score   support\n",
      "\n",
      "          0       0.23      0.06      0.09       488\n",
      "          1       0.20      0.10      0.13       505\n",
      "          2       0.13      0.08      0.10       512\n",
      "          3       0.15      0.27      0.19       497\n",
      "          4       0.16      0.02      0.04       507\n",
      "          5       0.15      0.07      0.09       488\n",
      "          6       0.18      0.09      0.12       491\n",
      "          7       0.13      0.40      0.20       495\n",
      "          8       0.23      0.61      0.34       504\n",
      "          9       0.18      0.02      0.03       513\n",
      "\n",
      "avg / total       0.17      0.17      0.13      5000\n",
      "\n"
     ]
    },
    {
     "data": {
      "image/png": "[encoded data removed]",
      "text/plain": [
       "<matplotlib.figure.Figure at 0x7f2850437a10>"
      ]
     },
     "metadata": {},
     "output_type": "display_data"
    }
   ],
   "source": [
    "# Percetron rapide\n",
    "from sklearn.linear_model import Perceptron\n",
    "train=list()\n",
    "test=list()\n",
    "nt = Perceptron()  \n",
    "nt.fit(train_set,train_label) \n",
    "train.append(np.mean(nt.predict(train_set) == train_label))\n",
    "test.append(np.mean(nt.predict(test_set) == test_label))\n",
    "print(\"perceptron:\",train,test)\n",
    "kl=nt.predict(test_set)\n",
    "target_names = ['0','1', '2', '3','4','5','6','7','8','9']\n",
    "print(classification_report(test_label, kl, target_names=target_names))\n",
    "sl=classification_report(test_label, kl, target_names=target_names)\n",
    "dessine(sl,\"perception\")"
   ]
  },
  {
   "cell_type": "code",
   "execution_count": 14,
   "metadata": {},
   "outputs": [
    {
     "name": "stdout",
     "output_type": "stream",
     "text": [
      "('SGDClassifier:', [0.20815], [0.20580000000000001])\n",
      "             precision    recall  f1-score   support\n",
      "\n",
      "          0       0.21      0.34      0.26       488\n",
      "          1       0.28      0.23      0.26       505\n",
      "          2       0.22      0.10      0.14       512\n",
      "          3       0.12      0.01      0.03       497\n",
      "          4       0.11      0.13      0.12       507\n",
      "          5       0.18      0.27      0.21       488\n",
      "          6       0.19      0.19      0.19       491\n",
      "          7       0.18      0.30      0.23       495\n",
      "          8       0.30      0.47      0.36       504\n",
      "          9       0.15      0.03      0.04       513\n",
      "\n",
      "avg / total       0.19      0.21      0.18      5000\n",
      "\n"
     ]
    },
    {
     "data": {
      "image/png": "[encoded data removed]",
      "text/plain": [
       "<matplotlib.figure.Figure at 0x7f2850723c10>"
      ]
     },
     "metadata": {},
     "output_type": "display_data"
    }
   ],
   "source": [
    "# SGDClassifier rapide\n",
    "from sklearn.linear_model import SGDClassifier\n",
    "train=list()\n",
    "test=list()\n",
    "nt = SGDClassifier()  \n",
    "nt.fit(train_set,train_label) \n",
    "train.append(np.mean(nt.predict(train_set) == train_label))\n",
    "test.append(np.mean(nt.predict(test_set) == test_label))\n",
    "print(\"SGDClassifier:\",train,test)\n",
    "kl=nt.predict(test_set)\n",
    "target_names = ['0','1', '2', '3','4','5','6','7','8','9']\n",
    "print(classification_report(test_label, kl, target_names=target_names))\n",
    "sl=classification_report(test_label, kl, target_names=target_names)\n",
    "dessine(sl,\"SGDClassifier\")"
   ]
  },
  {
   "cell_type": "code",
   "execution_count": 15,
   "metadata": {},
   "outputs": [
    {
     "name": "stdout",
     "output_type": "stream",
     "text": [
      "('svc:', [0.26135000000000003], [0.2626])\n",
      "             precision    recall  f1-score   support\n",
      "\n",
      "          0       0.29      0.44      0.35       488\n",
      "          1       0.27      0.31      0.29       505\n",
      "          2       0.29      0.11      0.16       512\n",
      "          3       0.17      0.40      0.24       497\n",
      "          4       0.30      0.18      0.23       507\n",
      "          5       0.25      0.15      0.19       488\n",
      "          6       0.28      0.30      0.29       491\n",
      "          7       0.28      0.25      0.26       495\n",
      "          8       0.38      0.30      0.34       504\n",
      "          9       0.28      0.18      0.22       513\n",
      "\n",
      "avg / total       0.28      0.26      0.26      5000\n",
      "\n"
     ]
    },
    {
     "data": {
      "image/png": "[encoded data removed]",
      "text/plain": [
       "<matplotlib.figure.Figure at 0x7f28801d94d0>"
      ]
     },
     "metadata": {},
     "output_type": "display_data"
    }
   ],
   "source": [
    "# naive SVC tres lent\n",
    "from sklearn.svm import SVC\n",
    "#train_set=train_final[0:5000]\n",
    "#train_label=y_train[0:5000]\n",
    "#test_set=test_final[0:1000]\n",
    "#test_label=y_test[0:1000]\n",
    "train=list()\n",
    "test=list()\n",
    "clf = SVC()\n",
    "clf.fit(train_set,train_label) \n",
    "train.append(np.mean(clf.predict(train_set) == train_label))\n",
    "test.append(np.mean(clf.predict(test_set) == test_label))\n",
    "     \n",
    "print(\"svc:\" ,train,test) \n",
    "kl=clf.predict(test_set)\n",
    "target_names = ['0','1', '2', '3','4','5','6','7','8','9']\n",
    "print(classification_report(test_label, kl, target_names=target_names))\n",
    "sl=classification_report(test_label, kl, target_names=target_names)\n",
    "dessine(sl,\"svc\")"
   ]
  },
  {
   "cell_type": "code",
   "execution_count": 16,
   "metadata": {},
   "outputs": [
    {
     "name": "stdout",
     "output_type": "stream",
     "text": [
      "('kneighbor:', [0.39179999999999998], [0.20200000000000001])\n",
      "             precision    recall  f1-score   support\n",
      "\n",
      "          0       0.19      0.43      0.27       488\n",
      "          1       0.18      0.25      0.21       505\n",
      "          2       0.15      0.20      0.17       512\n",
      "          3       0.16      0.18      0.17       497\n",
      "          4       0.22      0.16      0.18       507\n",
      "          5       0.20      0.11      0.14       488\n",
      "          6       0.20      0.16      0.18       491\n",
      "          7       0.24      0.13      0.17       495\n",
      "          8       0.34      0.27      0.30       504\n",
      "          9       0.24      0.14      0.18       513\n",
      "\n",
      "avg / total       0.21      0.20      0.20      5000\n",
      "\n"
     ]
    },
    {
     "data": {
      "image/png": "[encoded data removed]",
      "text/plain": [
       "<matplotlib.figure.Figure at 0x7f28417587d0>"
      ]
     },
     "metadata": {},
     "output_type": "display_data"
    }
   ],
   "source": [
    "# kneighbor tres lent\n",
    "from sklearn.neighbors import KNeighborsClassifier\n",
    "#train_set=train_final[0:5000]\n",
    "#train_label=y_train[0:5000]\n",
    "#test_set=test_final[0:1000]\n",
    "#test_label=y_test[0:1000]\n",
    "train=list()\n",
    "test=list()\n",
    "nt = KNeighborsClassifier(n_neighbors=4)  \n",
    "nt.fit(train_set,train_label) \n",
    "train.append(np.mean(nt.predict(train_set) == train_label))\n",
    "test.append(np.mean(nt.predict(test_set) == test_label))\n",
    "print(\"kneighbor:\",train,test)\n",
    "kl=nt.predict(test_set)\n",
    "target_names = ['0','1', '2', '3','4','5','6','7','8','9']\n",
    "print(classification_report(test_label, kl, target_names=target_names))\n",
    "sl=classification_report(test_label, kl, target_names=target_names)\n",
    "dessine(sl,\"kneighbor\")"
   ]
  },
  {
   "cell_type": "code",
   "execution_count": null,
   "metadata": {
    "collapsed": true
   },
   "outputs": [],
   "source": []
  }
 ],
 "metadata": {
  "kernelspec": {
   "display_name": "Python 2",
   "language": "python",
   "name": "python2"
  },
  "language_info": {
   "codemirror_mode": {
    "name": "ipython",
    "version": 2
   },
   "file_extension": ".py",
   "mimetype": "text/x-python",
   "name": "python",
   "nbconvert_exporter": "python",
   "pygments_lexer": "ipython2",
   "version": "2.7.12"
  }
 },
 "nbformat": 4,
 "nbformat_minor": 2
}
