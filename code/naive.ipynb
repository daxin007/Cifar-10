{
 "cells": [
  {
   "cell_type": "markdown",
   "metadata": {},
   "source": [
    "# Naive algorithmes"
   ]
  },
  {
   "cell_type": "code",
   "execution_count": 1,
   "metadata": {},
   "outputs": [],
   "source": [
    "# coding: utf-8\n",
    "#Chargement des données\n",
    "import matplotlib.pyplot as plt\n",
    "from PIL import Image\n",
    "from pylab import *\n",
    "from sklearn.cluster import KMeans\n",
    "from collections import Counter\n",
    "from scipy.stats.mstats import mode\n",
    "from sklearn.utils import shuffle\n",
    "import cPickle\n",
    "from sklearn.metrics import classification_report\n",
    "from sklearn.metrics import accuracy_score \n",
    "def unpickle(file):\n",
    "    with open(file, 'rb') as fx:\n",
    "        dict = cPickle.load(fx)\n",
    "    return dict\n",
    "images = [[] for i in range(6)]\n",
    "# 0~4 sont train donnes, 5 est test donne\n",
    "images[0] = unpickle('./cifar-10-batches-py/data_batch_1')\n",
    "images[1] = unpickle('./cifar-10-batches-py/data_batch_2')\n",
    "images[2] = unpickle('./cifar-10-batches-py/data_batch_3')\n",
    "images[3] = unpickle('./cifar-10-batches-py/data_batch_4')\n",
    "images[4] = unpickle('./cifar-10-batches-py/data_batch_5')\n",
    "images[5] = unpickle('./cifar-10-batches-py/test_batch')  "
   ]
  },
  {
   "cell_type": "code",
   "execution_count": 2,
   "metadata": {},
   "outputs": [
    {
     "name": "stdout",
     "output_type": "stream",
     "text": [
      "('decision tree:', [1.0], [0.24533333333333332])\n",
      "0.245333333333\n",
      "             precision    recall  f1-score   support\n",
      "\n",
      "          0       0.32      0.33      0.32       292\n",
      "          1       0.27      0.24      0.26       307\n",
      "          2       0.21      0.24      0.22       317\n",
      "          3       0.17      0.17      0.17       298\n",
      "          4       0.21      0.25      0.23       309\n",
      "          5       0.17      0.15      0.16       303\n",
      "          6       0.22      0.25      0.24       275\n",
      "          7       0.26      0.25      0.26       302\n",
      "          8       0.33      0.37      0.35       287\n",
      "          9       0.28      0.22      0.25       310\n",
      "\n",
      "avg / total       0.25      0.25      0.24      3000\n",
      "\n"
     ]
    }
   ],
   "source": [
    "# decision tree\n",
    "from sklearn import tree\n",
    "train=list()\n",
    "test=list()\n",
    "train_set=images[0][\"data\"][0:10000]\n",
    "train_label=images[0][\"labels\"][0:10000]\n",
    "test_set=images[5][\"data\"][2000:5000]\n",
    "test_label=images[5][\"labels\"][2000:5000]\n",
    "clf = tree.DecisionTreeClassifier()\n",
    "clf.fit(train_set,train_label) \n",
    "train.append(np.mean(clf.predict(train_set) == train_label))\n",
    "test.append(np.mean(clf.predict(test_set) == test_label))\n",
    "kl=clf.predict(test_set)\n",
    "     \n",
    "print(\"decision tree:\",train,test) # affiche taux correct pour train_set et test_set\n",
    "# Taux correct\n",
    "a=accuracy_score(kl, test_label)\n",
    "print(a)\n",
    "target_names = ['0','1', '2', '3','4','5','6','7','8','9']\n",
    "print(classification_report(test_label, kl, target_names=target_names))"
   ]
  },
  {
   "cell_type": "code",
   "execution_count": 3,
   "metadata": {},
   "outputs": [
    {
     "name": "stdout",
     "output_type": "stream",
     "text": [
      "<type 'unicode'>\n",
      "0.32\n",
      "0.27\n",
      "0.21\n",
      "[0.32, 0.27, 0.21, 0.17, 0.21, 0.17, 0.22, 0.26, 0.33, 0.28]\n"
     ]
    }
   ],
   "source": [
    "print(type(classification_report(test_label, kl, target_names=target_names)))\n",
    "#print(list(classification_report(test_label, kl, target_names=target_names)))\n",
    "print((classification_report(test_label, kl, target_names=target_names))[72:76])\n",
    "print((classification_report(test_label, kl, target_names=target_names))[125:129])\n",
    "print((classification_report(test_label, kl, target_names=target_names))[178:182])\n",
    "s=classification_report(test_label, kl, target_names=target_names)\n",
    "y=list()\n",
    "j=72\n",
    "for i in range(10):\n",
    "    y.append(float(s[j:j+4]))\n",
    "    j=j+53\n",
    "print(y)"
   ]
  },
  {
   "cell_type": "code",
   "execution_count": 4,
   "metadata": {},
   "outputs": [
    {
     "data": {
      "image/png": "[encoded data removed]",
      "text/plain": [
       "<matplotlib.figure.Figure at 0x7f3e9df19e10>"
      ]
     },
     "metadata": {},
     "output_type": "display_data"
    }
   ],
   "source": [
    "def dessine(s,t):\n",
    "    y=list()\n",
    "    j=72\n",
    "    for i in range(10):\n",
    "        y.append(float(s[j:j+4]))\n",
    "        j=j+53\n",
    "    #print(y)\n",
    "    x = np.linspace(0,9,10)\n",
    "    plt.figure(figsize=(10,6))\n",
    "    plt.title(t)\n",
    "    plt.ylim((0, 0.5))\n",
    "    plt.xticks([0, 1, 2, 3, 4,5,6,7,8,9],['airplane', 'automobile', 'bird', 'cat', 'deer', 'dog', 'frog', 'horse', 'ship', 'truck'])\n",
    "    plt.plot(x, y,'rx',label='train')\n",
    "    plt.show()\n",
    "dessine(s,\"decision tree\")"
   ]
  },
  {
   "cell_type": "code",
   "execution_count": 5,
   "metadata": {},
   "outputs": [
    {
     "name": "stdout",
     "output_type": "stream",
     "text": [
      "('svc:', [1.0], [0.10566666666666667])\n",
      "             precision    recall  f1-score   support\n",
      "\n",
      "          0       0.00      0.00      0.00       292\n",
      "          1       0.00      0.00      0.00       307\n",
      "          2       0.11      1.00      0.19       317\n",
      "          3       0.00      0.00      0.00       298\n",
      "          4       0.00      0.00      0.00       309\n",
      "          5       0.00      0.00      0.00       303\n",
      "          6       0.00      0.00      0.00       275\n",
      "          7       0.00      0.00      0.00       302\n",
      "          8       0.00      0.00      0.00       287\n",
      "          9       0.00      0.00      0.00       310\n",
      "\n",
      "avg / total       0.01      0.11      0.02      3000\n",
      "\n"
     ]
    },
    {
     "name": "stderr",
     "output_type": "stream",
     "text": [
      "/usr/local/lib/python2.7/dist-packages/sklearn/metrics/classification.py:1135: UndefinedMetricWarning: Precision and F-score are ill-defined and being set to 0.0 in labels with no predicted samples.\n",
      "  'precision', 'predicted', average, warn_for)\n"
     ]
    },
    {
     "data": {
      "image/png": "[encoded data removed]",
      "text/plain": [
       "<matplotlib.figure.Figure at 0x7f3eb7fb3510>"
      ]
     },
     "metadata": {},
     "output_type": "display_data"
    }
   ],
   "source": [
    "# naive SVC tres lent\n",
    "from sklearn.svm import SVC\n",
    "train=list()\n",
    "test=list()\n",
    "clf = SVC()\n",
    "clf.fit(train_set,train_label) \n",
    "train.append(np.mean(clf.predict(train_set) == train_label))\n",
    "test.append(np.mean(clf.predict(test_set) == test_label))\n",
    "     \n",
    "print(\"svc:\" ,train,test)\n",
    "\n",
    "kl=clf.predict(test_set)\n",
    "target_names = ['0','1', '2', '3','4','5','6','7','8','9']\n",
    "print(classification_report(test_label, kl, target_names=target_names))\n",
    "sl=classification_report(test_label, kl, target_names=target_names)\n",
    "dessine(sl,\"svc\")"
   ]
  },
  {
   "cell_type": "code",
   "execution_count": 6,
   "metadata": {},
   "outputs": [
    {
     "name": "stdout",
     "output_type": "stream",
     "text": [
      "('bayes:', [0.29120000000000001], [0.30066666666666669])\n",
      "             precision    recall  f1-score   support\n",
      "\n",
      "          0       0.28      0.49      0.36       292\n",
      "          1       0.37      0.16      0.22       307\n",
      "          2       0.22      0.09      0.13       317\n",
      "          3       0.32      0.06      0.11       298\n",
      "          4       0.26      0.46      0.33       309\n",
      "          5       0.30      0.30      0.30       303\n",
      "          6       0.24      0.48      0.32       275\n",
      "          7       0.32      0.10      0.15       302\n",
      "          8       0.38      0.48      0.42       287\n",
      "          9       0.41      0.43      0.42       310\n",
      "\n",
      "avg / total       0.31      0.30      0.27      3000\n",
      "\n"
     ]
    },
    {
     "data": {
      "image/png": "[encoded data removed]",
      "text/plain": [
       "<matplotlib.figure.Figure at 0x7f3eb7fb3350>"
      ]
     },
     "metadata": {},
     "output_type": "display_data"
    }
   ],
   "source": [
    "# naive bayes\n",
    "from sklearn.naive_bayes import GaussianNB\n",
    "train=list()\n",
    "test=list()\n",
    "clf = GaussianNB()\n",
    "clf.fit(train_set,train_label) \n",
    "train.append(np.mean(clf.predict(train_set) == train_label))\n",
    "test.append(np.mean(clf.predict(test_set) == test_label))\n",
    "     \n",
    "print(\"bayes:\",train,test) \n",
    "kl=clf.predict(test_set)\n",
    "target_names = ['0','1', '2', '3','4','5','6','7','8','9']\n",
    "print(classification_report(test_label, kl, target_names=target_names))\n",
    "sl=classification_report(test_label, kl, target_names=target_names)\n",
    "dessine(sl,\"bayes\")"
   ]
  },
  {
   "cell_type": "code",
   "execution_count": 18,
   "metadata": {},
   "outputs": [
    {
     "name": "stdout",
     "output_type": "stream",
     "text": [
      "('kneighbor:', [0.38009999999999999], [0.30166666666666669])\n",
      "             precision    recall  f1-score   support\n",
      "\n",
      "          0       0.36      0.53      0.43       292\n",
      "          1       0.74      0.10      0.18       307\n",
      "          2       0.22      0.45      0.30       317\n",
      "          3       0.28      0.12      0.17       298\n",
      "          4       0.21      0.49      0.30       309\n",
      "          5       0.44      0.16      0.24       303\n",
      "          6       0.26      0.28      0.27       275\n",
      "          7       0.58      0.12      0.20       302\n",
      "          8       0.36      0.65      0.46       287\n",
      "          9       0.68      0.12      0.20       310\n",
      "\n",
      "avg / total       0.42      0.30      0.27      3000\n",
      "\n"
     ]
    },
    {
     "data": {
      "image/png": "[encoded data removed]",
      "text/plain": [
       "<matplotlib.figure.Figure at 0x7f3e9db2de10>"
      ]
     },
     "metadata": {},
     "output_type": "display_data"
    }
   ],
   "source": [
    "# kneighbor tres lent\n",
    "from sklearn.neighbors import KNeighborsClassifier\n",
    "train=list()\n",
    "test=list()\n",
    "nt = KNeighborsClassifier(n_neighbors=12)  \n",
    "nt.fit(train_set,train_label) \n",
    "train.append(np.mean(nt.predict(train_set) == train_label))\n",
    "test.append(np.mean(nt.predict(test_set) == test_label))\n",
    "print(\"kneighbor:\",train,test)\n",
    "kl=nt.predict(test_set)\n",
    "target_names = ['0','1', '2', '3','4','5','6','7','8','9']\n",
    "print(classification_report(test_label, kl, target_names=target_names))\n",
    "sl=classification_report(test_label, kl, target_names=target_names)\n",
    "dessine(sl,\"kneighbor\")"
   ]
  },
  {
   "cell_type": "code",
   "execution_count": 8,
   "metadata": {},
   "outputs": [
    {
     "name": "stderr",
     "output_type": "stream",
     "text": [
      "/usr/local/lib/python2.7/dist-packages/sklearn/linear_model/stochastic_gradient.py:128: FutureWarning: max_iter and tol parameters have been added in <class 'sklearn.linear_model.perceptron.Perceptron'> in 0.19. If both are left unset, they default to max_iter=5 and tol=None. If tol is not None, max_iter defaults to max_iter=1000. From 0.21, default max_iter will be 1000, and default tol will be 1e-3.\n",
      "  \"and default tol will be 1e-3.\" % type(self), FutureWarning)\n"
     ]
    },
    {
     "name": "stdout",
     "output_type": "stream",
     "text": [
      "('perceptron:', [0.3402], [0.29033333333333333])\n",
      "             precision    recall  f1-score   support\n",
      "\n",
      "          0       0.54      0.13      0.21       292\n",
      "          1       0.33      0.58      0.43       307\n",
      "          2       0.28      0.06      0.09       317\n",
      "          3       0.41      0.07      0.12       298\n",
      "          4       0.19      0.66      0.30       309\n",
      "          5       0.20      0.00      0.01       303\n",
      "          6       0.34      0.45      0.38       275\n",
      "          7       0.27      0.54      0.36       302\n",
      "          8       0.47      0.24      0.32       287\n",
      "          9       0.60      0.17      0.26       310\n",
      "\n",
      "avg / total       0.36      0.29      0.25      3000\n",
      "\n"
     ]
    },
    {
     "data": {
      "image/png": "[encoded data removed]",
      "text/plain": [
       "<matplotlib.figure.Figure at 0x7f3e9dd7f350>"
      ]
     },
     "metadata": {},
     "output_type": "display_data"
    }
   ],
   "source": [
    "# Percetron rapide\n",
    "from sklearn.linear_model import Perceptron\n",
    "train=list()\n",
    "test=list()\n",
    "nt = Perceptron()  \n",
    "nt.fit(train_set,train_label) \n",
    "train.append(np.mean(nt.predict(train_set) == train_label))\n",
    "test.append(np.mean(nt.predict(test_set) == test_label))\n",
    "print(\"perceptron:\",train,test)\n",
    "kl=nt.predict(test_set)\n",
    "target_names = ['0','1', '2', '3','4','5','6','7','8','9']\n",
    "print(classification_report(test_label, kl, target_names=target_names))\n",
    "sl=classification_report(test_label, kl, target_names=target_names)\n",
    "dessine(sl,\"perception\")"
   ]
  },
  {
   "cell_type": "code",
   "execution_count": 9,
   "metadata": {},
   "outputs": [
    {
     "name": "stderr",
     "output_type": "stream",
     "text": [
      "/usr/local/lib/python2.7/dist-packages/sklearn/linear_model/stochastic_gradient.py:128: FutureWarning: max_iter and tol parameters have been added in <class 'sklearn.linear_model.stochastic_gradient.SGDClassifier'> in 0.19. If both are left unset, they default to max_iter=5 and tol=None. If tol is not None, max_iter defaults to max_iter=1000. From 0.21, default max_iter will be 1000, and default tol will be 1e-3.\n",
      "  \"and default tol will be 1e-3.\" % type(self), FutureWarning)\n"
     ]
    },
    {
     "name": "stdout",
     "output_type": "stream",
     "text": [
      "('SGDClassifier:', [0.29449999999999998], [0.25066666666666665])\n",
      "             precision    recall  f1-score   support\n",
      "\n",
      "          0       0.38      0.18      0.25       292\n",
      "          1       0.33      0.42      0.37       307\n",
      "          2       0.40      0.01      0.02       317\n",
      "          3       0.27      0.04      0.07       298\n",
      "          4       0.37      0.24      0.29       309\n",
      "          5       0.23      0.24      0.24       303\n",
      "          6       0.41      0.19      0.26       275\n",
      "          7       0.70      0.06      0.12       302\n",
      "          8       0.49      0.33      0.40       287\n",
      "          9       0.15      0.76      0.26       310\n",
      "\n",
      "avg / total       0.37      0.25      0.23      3000\n",
      "\n"
     ]
    },
    {
     "data": {
      "image/png": "[encoded data removed]",
      "text/plain": [
       "<matplotlib.figure.Figure at 0x7f3e9dc29dd0>"
      ]
     },
     "metadata": {},
     "output_type": "display_data"
    }
   ],
   "source": [
    "# SGDClassifier rapide\n",
    "from sklearn.linear_model import SGDClassifier\n",
    "train=list()\n",
    "test=list()\n",
    "nt = SGDClassifier()  \n",
    "nt.fit(train_set,train_label) \n",
    "train.append(np.mean(nt.predict(train_set) == train_label))\n",
    "test.append(np.mean(nt.predict(test_set) == test_label))\n",
    "print(\"SGDClassifier:\",train,test)\n",
    "kl=nt.predict(test_set)\n",
    "target_names = ['0','1', '2', '3','4','5','6','7','8','9']\n",
    "print(classification_report(test_label, kl, target_names=target_names))\n",
    "sl=classification_report(test_label, kl, target_names=target_names)\n",
    "dessine(sl,\"SGDClassifier\")"
   ]
  },
  {
   "cell_type": "markdown",
   "metadata": {},
   "source": [
    "# KMeans1"
   ]
  },
  {
   "cell_type": "code",
   "execution_count": 19,
   "metadata": {},
   "outputs": [],
   "source": [
    "# kmeans1 un peu lent\n",
    "from sklearn.metrics import classification_report\n",
    "from sklearn.cluster import KMeans\n",
    "from sklearn.metrics import accuracy_score  \n",
    "train=list()\n",
    "test=list()\n",
    "kmeans = KMeans(n_clusters=10, random_state=0).fit(train_set)\n",
    "k=kmeans.labels_"
   ]
  },
  {
   "cell_type": "code",
   "execution_count": 20,
   "metadata": {},
   "outputs": [
    {
     "name": "stdout",
     "output_type": "stream",
     "text": [
      "10000\n",
      "10000\n",
      "<type 'numpy.ndarray'>\n",
      "<type 'numpy.ndarray'>\n",
      "(10000, 3072)\n",
      "(10000,)\n",
      "<type 'list'>\n"
     ]
    }
   ],
   "source": [
    "# explorez les donnes\n",
    "print(len(kmeans.predict(train_set)))\n",
    "print(len(train_set))\n",
    "print(type(train_set))\n",
    "print(type(k))\n",
    "print(train_set.shape)\n",
    "print(k.shape)\n",
    "kl=list(k)\n",
    "tl=list(train_set)\n",
    "print(type(kl))\n",
    "\n",
    "# cette partie est pour changer label\n",
    "labels = [[] for i in range(10)]\n",
    "for i,j in enumerate(kl):\n",
    "    labels[j].append(i)\n",
    "#print(labels)"
   ]
  },
  {
   "cell_type": "code",
   "execution_count": 21,
   "metadata": {},
   "outputs": [
    {
     "name": "stdout",
     "output_type": "stream",
     "text": [
      "[6, 7, 4, 0, 2, 3, 8, 9, 5, 1]\n",
      "[8, 9, 7, 0, 7, 4, 2, 2, 3, 4]\n",
      "[5, 1, 9, 6, 9, 2, 4, 4, 0, 2]\n"
     ]
    }
   ],
   "source": [
    "#changer les labels\n",
    "vrai = [[] for i in range(10)]\n",
    "for i in range(10):\n",
    "    vrai[i]=[0]*10\n",
    "s=[0]*10\n",
    "#print(vrai)\n",
    "\n",
    "for j in range(10):\n",
    "    for i in labels[j]:\n",
    "        s[j]=s[j]+1\n",
    "        if(train_label[i]==0):\n",
    "            vrai[j][0]=vrai[j][0]+1\n",
    "        elif(train_label[i]==1):\n",
    "            vrai[j][1]=vrai[j][1]+1\n",
    "        elif(train_label[i]==2):\n",
    "            vrai[j][2]=vrai[j][2]+1\n",
    "        elif(train_label[i]==3):\n",
    "            vrai[j][3]=vrai[j][3]+1\n",
    "        elif(train_label[i]==4):\n",
    "            vrai[j][4]=vrai[j][4]+1\n",
    "        elif(train_label[i]==5):\n",
    "            vrai[j][5]=vrai[j][5]+1\n",
    "        elif(train_label[i]==6):\n",
    "            vrai[j][6]=vrai[j][6]+1\n",
    "        elif(train_label[i]==7):\n",
    "            vrai[j][7]=vrai[j][7]+1   \n",
    "        elif(train_label[i]==8):\n",
    "            vrai[j][8]=vrai[j][8]+1\n",
    "        elif(train_label[i]==9):\n",
    "            vrai[j][9]=vrai[j][9]+1\n",
    "for i in range(10):\n",
    "    #print(vrai[i])\n",
    "    pass\n",
    "kchange=[None]*10\n",
    "i=0\n",
    "while i<10:\n",
    "    b=vrai[i].index(max(vrai[i]))\n",
    "    if b not in kchange:\n",
    "        kchange[i]=b\n",
    "        i+=1\n",
    "    else:\n",
    "        vrai[i][b]=0\n",
    "      \n",
    "     \n",
    "print(kchange) \n",
    "print(kl[0:10])\n",
    "for i in range(len(kl)):\n",
    "    kl[i]=kchange[kl[i]]\n",
    "print(kl[0:10])"
   ]
  },
  {
   "cell_type": "code",
   "execution_count": 22,
   "metadata": {},
   "outputs": [
    {
     "name": "stdout",
     "output_type": "stream",
     "text": [
      "0.2061\n",
      "             precision    recall  f1-score   support\n",
      "\n",
      "          0       0.24      0.20      0.22      1005\n",
      "          1       0.18      0.20      0.19       974\n",
      "          2       0.15      0.20      0.17      1032\n",
      "          3       0.10      0.05      0.07      1016\n",
      "          4       0.16      0.25      0.19       999\n",
      "          5       0.18      0.20      0.19       937\n",
      "          6       0.25      0.22      0.23      1030\n",
      "          7       0.16      0.12      0.13      1001\n",
      "          8       0.34      0.26      0.30      1025\n",
      "          9       0.29      0.37      0.33       981\n",
      "\n",
      "avg / total       0.21      0.21      0.20     10000\n",
      "\n"
     ]
    },
    {
     "data": {
      "image/png": "[encoded data removed]",
      "text/plain": [
       "<matplotlib.figure.Figure at 0x7f3e9d8e08d0>"
      ]
     },
     "metadata": {},
     "output_type": "display_data"
    }
   ],
   "source": [
    "# Taux correct\n",
    "a=accuracy_score(kl, train_label)\n",
    "print(a)\n",
    "target_names = ['0','1', '2', '3','4','5','6','7','8','9']\n",
    "#sl=classification_report(train_label, kl, target_names=target_names)\n",
    "print(classification_report(train_label, kl, target_names=target_names))\n",
    "kl=kmeans.predict(test_set)\n",
    "#print(classification_report(test_label, kl, target_names=target_names))\n",
    "\n",
    "dessine(sl,\"kmeans\")\n",
    "            "
   ]
  },
  {
   "cell_type": "markdown",
   "metadata": {},
   "source": [
    "# Kmeans2"
   ]
  },
  {
   "cell_type": "code",
   "execution_count": 23,
   "metadata": {},
   "outputs": [
    {
     "name": "stdout",
     "output_type": "stream",
     "text": [
      "[array([ 0.56863686,  0.56468627,  0.56709098, ...,  0.5389702 ,\n",
      "        0.53795765,  0.54004706]), array([ 0.53619137,  0.53502588,  0.53944392, ...,  0.48939686,\n",
      "        0.49270275,  0.49684863]), array([ 0.48992706,  0.49056549,  0.49473647, ...,  0.42043451,\n",
      "        0.41908157,  0.41898588]), array([ 0.47588157,  0.47583843,  0.47937333, ...,  0.44116392,\n",
      "        0.43744314,  0.43561804]), array([ 0.42010275,  0.42083922,  0.42615059, ...,  0.39481647,\n",
      "        0.3937302 ,  0.39187529]), array([ 0.42462039,  0.42233255,  0.42624549, ...,  0.4153302 ,\n",
      "        0.41190902,  0.41072235]), array([ 0.45136314,  0.44788392,  0.44993412, ...,  0.39921098,\n",
      "        0.39855451,  0.40008392]), array([ 0.52933647,  0.52404863,  0.52667294, ...,  0.41744471,\n",
      "        0.41961255,  0.42526275]), array([ 0.57362039,  0.57005176,  0.57373255, ...,  0.45261725,\n",
      "        0.45694353,  0.46232471]), array([ 0.65623137,  0.65227137,  0.65585255, ...,  0.49455922,\n",
      "        0.49897647,  0.50379451])]\n",
      "nb ligne de clusters : 10\n",
      "nb colonne de clusters dans chaque ligne : 3072\n",
      "('le taux de correction : 27.74', 'le label le plus reconnu est : 0', 'le label le plus mal reconnu est : 3')\n"
     ]
    }
   ],
   "source": [
    "# kmeans 2: Un algorithme qui applique l'idée de kmeans\n",
    "import matplotlib.pyplot as plt\n",
    "from PIL import Image\n",
    "from pylab import *\n",
    "from sklearn.cluster import KMeans\n",
    "from collections import Counter\n",
    "from scipy.stats.mstats import mode\n",
    "from sklearn.utils import shuffle\n",
    "\n",
    "def kmoyen(images):\n",
    "\n",
    "    t=images\n",
    "    t=t/float(255)\n",
    "    t=t.reshape(32,32,3)\n",
    "    w, h, d = original_shape = tuple(t.shape) \n",
    "    image_array = np.reshape(t, (w * h, d))\n",
    "    image_array_sample = shuffle(image_array, random_state=0)[:1024]\n",
    "    kmeans = KMeans(n_clusters=64, random_state=0).fit(image_array_sample)\n",
    "    labels = kmeans.predict(image_array) \n",
    "    codebook=kmeans.cluster_centers_\n",
    "    d = codebook.shape[1]\n",
    "    image = np.zeros((w, h, d)) \n",
    "    label_idx = 0  \n",
    "    for k in range(w):  \n",
    "        for j in range(h):  \n",
    "            image[k][j] = codebook[labels[label_idx]]  \n",
    "            label_idx += 1\n",
    "    image=image.reshape(3072,)\n",
    "    return image  \n",
    "\n",
    "def naive(images):\n",
    "\tclusters = [[] for i in range(10)]\n",
    "\tfor i in images[0:5]:\n",
    "\t\tfor x in range(10000):\n",
    "\t\t\tdata = i['data'][x]/float(255)\n",
    "\t\t\tlabel = i['labels'][x]\n",
    "\t\t\tclusters[label].append(data)\n",
    "\tfor i in range(10):                        \n",
    "\n",
    "\t\tclusters[i] = np.mean(clusters[i],axis = 0)\n",
    "\n",
    "        \n",
    "\treturn clusters\n",
    "\n",
    "\n",
    "\n",
    "clusters = naive(images)\n",
    "print clusters\n",
    "print \"nb ligne de clusters : {0}\".format(len(clusters))\n",
    "print \"nb colonne de clusters dans chaque ligne : {0}\".format(len(clusters[0]))\n",
    "\n",
    "\n",
    "# performance\n",
    "def performance(donnee,clusters):\n",
    "\timport operator\n",
    "\tdistance = [0 for i in range (10)]\n",
    "\tpartition_ok  = 0.0\t\n",
    "\tlabels_ok = dict()\n",
    "\tfor i in range(10): \n",
    "\t\tlabels_ok[i] = 0\n",
    "\t\t\n",
    "\tfor i in range(10000):\n",
    "       \n",
    "\t\td = clusters - donnee['data'][i]/float(255)  \n",
    "\t\td = np.linalg.norm(d,axis = 1)\n",
    "\t\tlabel = np.argmin(d**2)\n",
    "\t\tif label == donnee['labels'][i]:\n",
    "\t\t\tpartition_ok = partition_ok + 1\n",
    "\t\t\tlabels_ok[label] += 1\n",
    "\tpartition_ok = partition_ok/10000 * 100\n",
    "\tstat = max(labels_ok.iteritems(), key = operator.itemgetter(1))[0] \n",
    "\tstat_min = min(labels_ok.iteritems(), key = operator.itemgetter(1))[0]\n",
    "\tlabels = unpickle('./cifar-10-batches-py/batches.meta')\n",
    "\treturn \"le taux de correction : {0}\".format(partition_ok), \"le label le plus reconnu est : {0}\".format(stat), \"le label le plus mal reconnu est : {0}\".format(stat_min)\n",
    "\n",
    "\n",
    "pourcentage = performance(images[5], clusters)\n",
    "print (pourcentage)\n",
    "\n"
   ]
  },
  {
   "cell_type": "code",
   "execution_count": null,
   "metadata": {},
   "outputs": [],
   "source": []
  }
 ],
 "metadata": {
  "kernelspec": {
   "display_name": "Python 2",
   "language": "python",
   "name": "python2"
  },
  "language_info": {
   "codemirror_mode": {
    "name": "ipython",
    "version": 2
   },
   "file_extension": ".py",
   "mimetype": "text/x-python",
   "name": "python",
   "nbconvert_exporter": "python",
   "pygments_lexer": "ipython2",
   "version": "2.7.12"
  }
 },
 "nbformat": 4,
 "nbformat_minor": 2
}
